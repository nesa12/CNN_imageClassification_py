{
  "nbformat": 4,
  "nbformat_minor": 0,
  "metadata": {
    "colab": {
      "provenance": [],
      "authorship_tag": "ABX9TyO58nBCU5OR0BWjHuUNh9PO",
      "include_colab_link": true
    },
    "kernelspec": {
      "name": "python3",
      "display_name": "Python 3"
    },
    "language_info": {
      "name": "python"
    }
  },
  "cells": [
    {
      "cell_type": "markdown",
      "metadata": {
        "id": "view-in-github",
        "colab_type": "text"
      },
      "source": [
        "<a href=\"https://colab.research.google.com/github/nesa12/CNN_imageClassification_py/blob/main/Untitled5.ipynb\" target=\"_parent\"><img src=\"https://colab.research.google.com/assets/colab-badge.svg\" alt=\"Open In Colab\"/></a>"
      ]
    },
    {
      "cell_type": "code",
      "execution_count": 1,
      "metadata": {
        "colab": {
          "base_uri": "https://localhost:8080/"
        },
        "id": "9i6vLqUDNw-W",
        "outputId": "d3f4ad14-462c-45ae-f5c6-66f0f0f9ed65"
      },
      "outputs": [
        {
          "output_type": "stream",
          "name": "stdout",
          "text": [
            "Mounted at /content/drive\n"
          ]
        }
      ],
      "source": [
        "from google.colab import drive\n",
        "drive.mount('/content/drive')"
      ]
    },
    {
      "cell_type": "code",
      "source": [
        "%cd /content/drive/MyDrive/DataSet/"
      ],
      "metadata": {
        "colab": {
          "base_uri": "https://localhost:8080/"
        },
        "id": "29peceHFOBpr",
        "outputId": "dabbdc2b-6ef8-4b26-8891-fcf91686aa8d"
      },
      "execution_count": 2,
      "outputs": [
        {
          "output_type": "stream",
          "name": "stdout",
          "text": [
            "/content/drive/MyDrive/DataSet\n"
          ]
        }
      ]
    },
    {
      "cell_type": "code",
      "source": [
        "# data was manually splitted 0.8 to train and 0.2 to test before uploading the dataset to the drive\n",
        "trainingSet = 'Training_data'\n",
        "testingSet = 'Testing_data'"
      ],
      "metadata": {
        "id": "Y5w4xi18OHWs"
      },
      "execution_count": 3,
      "outputs": []
    },
    {
      "cell_type": "code",
      "source": [
        "import tensorflow as tf\n",
        "\n",
        "model = tf.keras.models.Sequential([\n",
        "    #input shape is desired size of the image 124*124 with 3 bytes color\n",
        "    #This is the first convolution\n",
        "    tf.keras.layers.Conv2D(filters=2,kernel_size=3,activation='sigmoid',input_shape=(124,124,3)),\n",
        "    tf.keras.layers.MaxPooling2D(pool_size=2,strides=1,padding='valid'),\n",
        "    #This is the second convolution\n",
        "    tf.keras.layers.Conv2D(filters=2,kernel_size=3,activation='relu'),\n",
        "    tf.keras.layers.MaxPooling2D(pool_size=2,strides=1,padding='valid'),\n",
        "    #This is the third convolution\n",
        "    tf.keras.layers.Conv2D(filters=2,kernel_size=3,activation='relu'),\n",
        "    tf.keras.layers.MaxPooling2D(pool_size=2,strides=1,padding='valid'),\n",
        "    #This is the fourth convolution\n",
        "    tf.keras.layers.Conv2D(filters=2,kernel_size=3,activation='relu'),\n",
        "    tf.keras.layers.MaxPooling2D(pool_size=2,strides=1,padding='valid'),\n",
        "    #Flatten the result to feed into a DNNv\n",
        "    tf.keras.layers.Flatten(),\n",
        "    #50 neuron hiden layer\n",
        "    tf.keras.layers.Dense(50,activation='relu'),\n",
        "\n",
        "    tf.keras.layers.Dense(5,activation='softmax'),\n",
        "])"
      ],
      "metadata": {
        "id": "SFlEzayaOvtD"
      },
      "execution_count": 33,
      "outputs": []
    },
    {
      "cell_type": "code",
      "source": [
        "model.summary()"
      ],
      "metadata": {
        "colab": {
          "base_uri": "https://localhost:8080/"
        },
        "id": "u6UkynuqTdU8",
        "outputId": "fa3ec374-0cf3-44ae-c5a3-f13dbd7e450c"
      },
      "execution_count": 34,
      "outputs": [
        {
          "output_type": "stream",
          "name": "stdout",
          "text": [
            "Model: \"sequential_5\"\n",
            "_________________________________________________________________\n",
            " Layer (type)                Output Shape              Param #   \n",
            "=================================================================\n",
            " conv2d_14 (Conv2D)          (None, 122, 122, 2)       56        \n",
            "                                                                 \n",
            " max_pooling2d_14 (MaxPoolin  (None, 121, 121, 2)      0         \n",
            " g2D)                                                            \n",
            "                                                                 \n",
            " conv2d_15 (Conv2D)          (None, 119, 119, 2)       38        \n",
            "                                                                 \n",
            " max_pooling2d_15 (MaxPoolin  (None, 118, 118, 2)      0         \n",
            " g2D)                                                            \n",
            "                                                                 \n",
            " conv2d_16 (Conv2D)          (None, 116, 116, 2)       38        \n",
            "                                                                 \n",
            " max_pooling2d_16 (MaxPoolin  (None, 115, 115, 2)      0         \n",
            " g2D)                                                            \n",
            "                                                                 \n",
            " conv2d_17 (Conv2D)          (None, 113, 113, 2)       38        \n",
            "                                                                 \n",
            " max_pooling2d_17 (MaxPoolin  (None, 112, 112, 2)      0         \n",
            " g2D)                                                            \n",
            "                                                                 \n",
            " flatten_5 (Flatten)         (None, 25088)             0         \n",
            "                                                                 \n",
            " dense_10 (Dense)            (None, 50)                1254450   \n",
            "                                                                 \n",
            " dense_11 (Dense)            (None, 5)                 255       \n",
            "                                                                 \n",
            "=================================================================\n",
            "Total params: 1,254,875\n",
            "Trainable params: 1,254,875\n",
            "Non-trainable params: 0\n",
            "_________________________________________________________________\n"
          ]
        }
      ]
    },
    {
      "cell_type": "code",
      "source": [
        "from tensorflow.keras.optimizers import RMSprop\n",
        "\n",
        "model.compile(loss='categorical_crossentropy',\n",
        "              optimizer=RMSprop(lr=0.0001),\n",
        "              metrics=['accuracy'])"
      ],
      "metadata": {
        "id": "eLNiKz9ZTpsT"
      },
      "execution_count": 35,
      "outputs": []
    },
    {
      "cell_type": "code",
      "source": [
        "# Train the model from generators\n",
        "from tensorflow.keras.preprocessing.image import ImageDataGenerator\n",
        "\n",
        "#All train images be rescaled by 1./255\n",
        "trainDatagen = ImageDataGenerator(rescale = 1./255)\n",
        "\n",
        "#Flow training images in batches of 128 using trainDatagen generator\n",
        "trainDatagen_generator = trainDatagen.flow_from_directory(trainingSet,#This is the source directory for training images\n",
        "                                                    target_size = (124,124),\n",
        "                                                    batch_size = 16,\n",
        "                                                    class_mode = 'categorical')\n",
        "\n",
        "#All test images will be rescaled by 1./255\n",
        "testDatagen = ImageDataGenerator(rescale = 1./255)\n",
        "\n",
        "#apply predefined specification to test dataset\n",
        "test_set = trainDatagen.flow_from_directory(testingSet,#This is the source directory for training images\n",
        "                                                    target_size = (124,124),\n",
        "                                                    batch_size = 16,\n",
        "                                                    class_mode = 'categorical')\n"
      ],
      "metadata": {
        "colab": {
          "base_uri": "https://localhost:8080/"
        },
        "id": "CltkstvMUJPD",
        "outputId": "c8445124-0332-4360-ddc0-7f42034d9da7"
      },
      "execution_count": 36,
      "outputs": [
        {
          "output_type": "stream",
          "name": "stdout",
          "text": [
            "Found 523 images belonging to 5 classes.\n",
            "Found 138 images belonging to 5 classes.\n"
          ]
        }
      ]
    },
    {
      "cell_type": "code",
      "source": [
        "# training\n",
        "historyData = model.fit(\n",
        "    trainDatagen_generator,\n",
        "    validation_data = test_set,\n",
        "    steps_per_epoch = 8,\n",
        "    epochs = 50\n",
        ")"
      ],
      "metadata": {
        "colab": {
          "base_uri": "https://localhost:8080/"
        },
        "id": "pnEVVjLmV3vM",
        "outputId": "38eebd14-6cbc-4ed4-c5ae-736a080ace42"
      },
      "execution_count": 37,
      "outputs": [
        {
          "output_type": "stream",
          "name": "stdout",
          "text": [
            "Epoch 1/50\n",
            "8/8 [==============================] - 6s 596ms/step - loss: 1.6089 - accuracy: 0.2344 - val_loss: 1.6016 - val_accuracy: 0.2464\n",
            "Epoch 2/50\n",
            "8/8 [==============================] - 4s 541ms/step - loss: 1.5800 - accuracy: 0.2846 - val_loss: 1.6312 - val_accuracy: 0.2464\n",
            "Epoch 3/50\n",
            "8/8 [==============================] - 4s 554ms/step - loss: 1.5813 - accuracy: 0.2812 - val_loss: 1.6103 - val_accuracy: 0.2464\n",
            "Epoch 4/50\n",
            "8/8 [==============================] - 4s 558ms/step - loss: 1.5895 - accuracy: 0.2578 - val_loss: 1.6082 - val_accuracy: 0.2464\n",
            "Epoch 5/50\n",
            "8/8 [==============================] - 4s 561ms/step - loss: 1.5780 - accuracy: 0.2891 - val_loss: 1.6014 - val_accuracy: 0.2464\n",
            "Epoch 6/50\n",
            "8/8 [==============================] - 4s 544ms/step - loss: 1.5848 - accuracy: 0.2602 - val_loss: 1.6268 - val_accuracy: 0.2464\n",
            "Epoch 7/50\n",
            "8/8 [==============================] - 4s 559ms/step - loss: 1.5377 - accuracy: 0.3438 - val_loss: 1.6486 - val_accuracy: 0.2464\n",
            "Epoch 8/50\n",
            "8/8 [==============================] - 4s 543ms/step - loss: 1.6068 - accuracy: 0.2439 - val_loss: 1.6058 - val_accuracy: 0.2246\n",
            "Epoch 9/50\n",
            "8/8 [==============================] - 4s 553ms/step - loss: 1.5565 - accuracy: 0.2812 - val_loss: 1.6132 - val_accuracy: 0.2391\n",
            "Epoch 10/50\n",
            "8/8 [==============================] - 4s 545ms/step - loss: 1.5755 - accuracy: 0.2891 - val_loss: 1.6118 - val_accuracy: 0.2464\n",
            "Epoch 11/50\n",
            "8/8 [==============================] - 4s 555ms/step - loss: 1.5758 - accuracy: 0.2422 - val_loss: 1.6022 - val_accuracy: 0.2464\n",
            "Epoch 12/50\n",
            "8/8 [==============================] - 4s 548ms/step - loss: 1.5511 - accuracy: 0.2764 - val_loss: 1.6076 - val_accuracy: 0.2319\n",
            "Epoch 13/50\n",
            "8/8 [==============================] - 4s 570ms/step - loss: 1.5657 - accuracy: 0.3125 - val_loss: 1.5951 - val_accuracy: 0.2464\n",
            "Epoch 14/50\n",
            "8/8 [==============================] - 4s 542ms/step - loss: 1.4968 - accuracy: 0.3171 - val_loss: 1.6917 - val_accuracy: 0.2464\n",
            "Epoch 15/50\n",
            "8/8 [==============================] - 4s 561ms/step - loss: 1.5259 - accuracy: 0.2812 - val_loss: 1.6258 - val_accuracy: 0.2464\n",
            "Epoch 16/50\n",
            "8/8 [==============================] - 4s 549ms/step - loss: 1.5568 - accuracy: 0.2927 - val_loss: 1.5890 - val_accuracy: 0.2464\n",
            "Epoch 17/50\n",
            "8/8 [==============================] - 4s 552ms/step - loss: 1.5460 - accuracy: 0.2891 - val_loss: 1.5881 - val_accuracy: 0.2391\n",
            "Epoch 18/50\n",
            "8/8 [==============================] - 4s 559ms/step - loss: 1.5184 - accuracy: 0.3281 - val_loss: 1.5927 - val_accuracy: 0.2464\n",
            "Epoch 19/50\n",
            "8/8 [==============================] - 4s 547ms/step - loss: 1.5088 - accuracy: 0.3089 - val_loss: 1.5981 - val_accuracy: 0.2536\n",
            "Epoch 20/50\n",
            "8/8 [==============================] - 4s 563ms/step - loss: 1.5110 - accuracy: 0.2891 - val_loss: 1.5872 - val_accuracy: 0.2536\n",
            "Epoch 21/50\n",
            "8/8 [==============================] - 4s 557ms/step - loss: 1.4757 - accuracy: 0.3438 - val_loss: 1.6094 - val_accuracy: 0.2464\n",
            "Epoch 22/50\n",
            "8/8 [==============================] - 5s 633ms/step - loss: 1.5195 - accuracy: 0.3281 - val_loss: 1.5851 - val_accuracy: 0.3261\n",
            "Epoch 23/50\n",
            "8/8 [==============================] - 6s 730ms/step - loss: 1.5195 - accuracy: 0.3203 - val_loss: 1.5720 - val_accuracy: 0.2971\n",
            "Epoch 24/50\n",
            "8/8 [==============================] - 4s 538ms/step - loss: 1.5134 - accuracy: 0.3740 - val_loss: 1.5798 - val_accuracy: 0.2609\n",
            "Epoch 25/50\n",
            "8/8 [==============================] - 4s 557ms/step - loss: 1.5335 - accuracy: 0.3125 - val_loss: 1.5701 - val_accuracy: 0.3043\n",
            "Epoch 26/50\n",
            "8/8 [==============================] - 4s 539ms/step - loss: 1.4770 - accuracy: 0.4065 - val_loss: 1.5921 - val_accuracy: 0.2609\n",
            "Epoch 27/50\n",
            "8/8 [==============================] - 4s 549ms/step - loss: 1.4440 - accuracy: 0.3281 - val_loss: 1.5722 - val_accuracy: 0.2681\n",
            "Epoch 28/50\n",
            "8/8 [==============================] - 4s 550ms/step - loss: 1.4631 - accuracy: 0.3672 - val_loss: 1.5627 - val_accuracy: 0.3116\n",
            "Epoch 29/50\n",
            "8/8 [==============================] - 4s 540ms/step - loss: 1.4407 - accuracy: 0.4472 - val_loss: 1.5773 - val_accuracy: 0.2971\n",
            "Epoch 30/50\n",
            "8/8 [==============================] - 4s 535ms/step - loss: 1.4548 - accuracy: 0.4309 - val_loss: 1.5889 - val_accuracy: 0.2681\n",
            "Epoch 31/50\n",
            "8/8 [==============================] - 4s 570ms/step - loss: 1.4573 - accuracy: 0.4141 - val_loss: 1.5682 - val_accuracy: 0.3261\n",
            "Epoch 32/50\n",
            "8/8 [==============================] - 4s 563ms/step - loss: 1.4074 - accuracy: 0.4219 - val_loss: 1.5681 - val_accuracy: 0.3188\n",
            "Epoch 33/50\n",
            "8/8 [==============================] - 4s 566ms/step - loss: 1.4232 - accuracy: 0.4062 - val_loss: 1.5638 - val_accuracy: 0.2826\n",
            "Epoch 34/50\n",
            "8/8 [==============================] - 4s 556ms/step - loss: 1.3951 - accuracy: 0.5000 - val_loss: 1.5735 - val_accuracy: 0.2681\n",
            "Epoch 35/50\n",
            "8/8 [==============================] - 4s 561ms/step - loss: 1.4014 - accuracy: 0.4609 - val_loss: 1.5619 - val_accuracy: 0.2609\n",
            "Epoch 36/50\n",
            "8/8 [==============================] - 4s 537ms/step - loss: 1.3928 - accuracy: 0.4553 - val_loss: 1.5638 - val_accuracy: 0.2971\n",
            "Epoch 37/50\n",
            "8/8 [==============================] - 4s 555ms/step - loss: 1.4028 - accuracy: 0.3984 - val_loss: 1.5386 - val_accuracy: 0.3043\n",
            "Epoch 38/50\n",
            "8/8 [==============================] - 4s 554ms/step - loss: 1.4078 - accuracy: 0.4453 - val_loss: 1.5484 - val_accuracy: 0.3333\n",
            "Epoch 39/50\n",
            "8/8 [==============================] - 4s 549ms/step - loss: 1.3332 - accuracy: 0.4146 - val_loss: 1.5458 - val_accuracy: 0.3333\n",
            "Epoch 40/50\n",
            "8/8 [==============================] - 4s 554ms/step - loss: 1.3528 - accuracy: 0.5078 - val_loss: 1.5470 - val_accuracy: 0.3261\n",
            "Epoch 41/50\n",
            "8/8 [==============================] - 4s 562ms/step - loss: 1.3986 - accuracy: 0.4688 - val_loss: 1.5560 - val_accuracy: 0.3116\n",
            "Epoch 42/50\n",
            "8/8 [==============================] - 4s 559ms/step - loss: 1.3126 - accuracy: 0.4922 - val_loss: 1.5480 - val_accuracy: 0.3116\n",
            "Epoch 43/50\n",
            "8/8 [==============================] - 4s 559ms/step - loss: 1.2989 - accuracy: 0.5156 - val_loss: 1.5402 - val_accuracy: 0.3333\n",
            "Epoch 44/50\n",
            "8/8 [==============================] - 4s 567ms/step - loss: 1.3315 - accuracy: 0.4922 - val_loss: 1.5701 - val_accuracy: 0.3333\n",
            "Epoch 45/50\n",
            "8/8 [==============================] - 4s 565ms/step - loss: 1.3482 - accuracy: 0.4766 - val_loss: 1.5427 - val_accuracy: 0.3043\n",
            "Epoch 46/50\n",
            "8/8 [==============================] - 4s 561ms/step - loss: 1.2981 - accuracy: 0.5156 - val_loss: 1.5425 - val_accuracy: 0.3188\n",
            "Epoch 47/50\n",
            "8/8 [==============================] - 4s 557ms/step - loss: 1.3608 - accuracy: 0.4922 - val_loss: 1.5449 - val_accuracy: 0.3551\n",
            "Epoch 48/50\n",
            "8/8 [==============================] - 4s 556ms/step - loss: 1.2513 - accuracy: 0.5703 - val_loss: 1.5469 - val_accuracy: 0.3116\n",
            "Epoch 49/50\n",
            "8/8 [==============================] - 4s 558ms/step - loss: 1.3315 - accuracy: 0.4844 - val_loss: 1.5193 - val_accuracy: 0.3551\n",
            "Epoch 50/50\n",
            "8/8 [==============================] - 4s 567ms/step - loss: 1.2469 - accuracy: 0.5859 - val_loss: 1.5517 - val_accuracy: 0.3043\n"
          ]
        }
      ]
    },
    {
      "cell_type": "code",
      "source": [
        "# plot variation in loss and accuracy\n",
        "import matplotlib.pyplot as plt\n",
        "\n",
        "#plot the loss\n",
        "plt.plot(historyData.history['loss'],label='training_loss')\n",
        "plt.plot(historyData.history['val_loss'],label='testing_loss')\n",
        "plt.legend()\n",
        "plt.show()\n",
        "plt.savefig('LossTesting_loss')\n",
        "\n",
        "#plot the accuracy\n",
        "plt.plot(historyData.history['accuracy'],label='training_accuracy')\n",
        "plt.plot(historyData.history['val_accuracy'],label='testing_accuracy')\n",
        "plt.legend()\n",
        "plt.show()\n",
        "plt.savefig('AccTesting_accuracy')"
      ],
      "metadata": {
        "colab": {
          "base_uri": "https://localhost:8080/",
          "height": 532
        },
        "id": "ZgTivDf9Wbo7",
        "outputId": "a68d6772-1a14-4c0b-ae1d-02e85c0db9c9"
      },
      "execution_count": 38,
      "outputs": [
        {
          "output_type": "display_data",
          "data": {
            "text/plain": [
              "<Figure size 432x288 with 1 Axes>"
            ],
            "image/png": "[encoded data removed]"
          },
          "metadata": {
            "needs_background": "light"
          }
        },
        {
          "output_type": "display_data",
          "data": {
            "text/plain": [
              "<Figure size 432x288 with 1 Axes>"
            ],
            "image/png": "[encoded data removed]"
          },
          "metadata": {
            "needs_background": "light"
          }
        },
        {
          "output_type": "display_data",
          "data": {
            "text/plain": [
              "<Figure size 432x288 with 0 Axes>"
            ]
          },
          "metadata": {}
        }
      ]
    }
  ]
}